{
 "cells": [
  {
   "cell_type": "code",
   "execution_count": 1,
   "id": "bf279cd7-317b-4ebe-9989-04b897dd473b",
   "metadata": {},
   "outputs": [],
   "source": [
    "import numpy as np\n",
    "import pandas as pd\n",
    "import seaborn as sns\n",
    "import matplotlib.pyplot as plt"
   ]
  },
  {
   "cell_type": "code",
   "execution_count": 2,
   "id": "fb378e52-f91e-495f-a544-03857182ef9e",
   "metadata": {},
   "outputs": [
    {
     "data": {
      "text/html": [
       "<div>\n",
       "<style scoped>\n",
       "    .dataframe tbody tr th:only-of-type {\n",
       "        vertical-align: middle;\n",
       "    }\n",
       "\n",
       "    .dataframe tbody tr th {\n",
       "        vertical-align: top;\n",
       "    }\n",
       "\n",
       "    .dataframe thead th {\n",
       "        text-align: right;\n",
       "    }\n",
       "</style>\n",
       "<table border=\"1\" class=\"dataframe\">\n",
       "  <thead>\n",
       "    <tr style=\"text-align: right;\">\n",
       "      <th></th>\n",
       "      <th>Date</th>\n",
       "      <th>Day</th>\n",
       "      <th>Temperature</th>\n",
       "      <th>Rainfall</th>\n",
       "      <th>Flyers</th>\n",
       "      <th>Price</th>\n",
       "      <th>Sales</th>\n",
       "    </tr>\n",
       "  </thead>\n",
       "  <tbody>\n",
       "    <tr>\n",
       "      <th>0</th>\n",
       "      <td>1/1/17</td>\n",
       "      <td>Sunday</td>\n",
       "      <td>27.0</td>\n",
       "      <td>2.00</td>\n",
       "      <td>15</td>\n",
       "      <td>0.5</td>\n",
       "      <td>10</td>\n",
       "    </tr>\n",
       "    <tr>\n",
       "      <th>1</th>\n",
       "      <td>1/2/17</td>\n",
       "      <td>Monday</td>\n",
       "      <td>28.9</td>\n",
       "      <td>1.33</td>\n",
       "      <td>15</td>\n",
       "      <td>0.5</td>\n",
       "      <td>13</td>\n",
       "    </tr>\n",
       "    <tr>\n",
       "      <th>2</th>\n",
       "      <td>1/3/17</td>\n",
       "      <td>Tuesday</td>\n",
       "      <td>34.5</td>\n",
       "      <td>1.33</td>\n",
       "      <td>27</td>\n",
       "      <td>0.5</td>\n",
       "      <td>15</td>\n",
       "    </tr>\n",
       "    <tr>\n",
       "      <th>3</th>\n",
       "      <td>1/4/17</td>\n",
       "      <td>Wednesday</td>\n",
       "      <td>44.1</td>\n",
       "      <td>1.05</td>\n",
       "      <td>28</td>\n",
       "      <td>0.5</td>\n",
       "      <td>17</td>\n",
       "    </tr>\n",
       "    <tr>\n",
       "      <th>4</th>\n",
       "      <td>1/5/17</td>\n",
       "      <td>Thursday</td>\n",
       "      <td>42.4</td>\n",
       "      <td>1.00</td>\n",
       "      <td>33</td>\n",
       "      <td>0.5</td>\n",
       "      <td>18</td>\n",
       "    </tr>\n",
       "  </tbody>\n",
       "</table>\n",
       "</div>"
      ],
      "text/plain": [
       "     Date        Day  Temperature  Rainfall  Flyers  Price  Sales\n",
       "0  1/1/17     Sunday         27.0      2.00      15    0.5     10\n",
       "1  1/2/17     Monday         28.9      1.33      15    0.5     13\n",
       "2  1/3/17    Tuesday         34.5      1.33      27    0.5     15\n",
       "3  1/4/17  Wednesday         44.1      1.05      28    0.5     17\n",
       "4  1/5/17   Thursday         42.4      1.00      33    0.5     18"
      ]
     },
     "execution_count": 2,
     "metadata": {},
     "output_type": "execute_result"
    }
   ],
   "source": [
    "# get data\n",
    "lemonade = pd.read_csv(\"https://gist.githubusercontent.com/ryanorsinger/19bc7eccd6279661bd13307026628ace/raw/e4b5d6787015a4782f96cad6d1d62a8bdbac54c7/lemonade.csv\")\n",
    "lemonade.head()"
   ]
  },
  {
   "cell_type": "code",
   "execution_count": 3,
   "id": "0456daa2-c578-47b0-bfc3-6b66a131b596",
   "metadata": {},
   "outputs": [
    {
     "data": {
      "text/plain": [
       "Date            object\n",
       "Day             object\n",
       "Temperature    float64\n",
       "Rainfall       float64\n",
       "Flyers           int64\n",
       "Price          float64\n",
       "Sales            int64\n",
       "dtype: object"
      ]
     },
     "execution_count": 3,
     "metadata": {},
     "output_type": "execute_result"
    }
   ],
   "source": [
    "lemonade.dtypes"
   ]
  },
  {
   "cell_type": "markdown",
   "id": "866b7ef3-12ce-4183-a0f4-8dc9a046ed4c",
   "metadata": {},
   "source": [
    "**Use the IQR Range Rule and the upper and lower bounds to identify the lower outliers of each column of lemonade.csv, using the multiplier of 1.5. Do these lower outliers make sense? Which outliers should be kept?**"
   ]
  },
  {
   "cell_type": "code",
   "execution_count": 8,
   "id": "06eb32e3-6284-4d03-ac46-0a4ce355f864",
   "metadata": {},
   "outputs": [
    {
     "data": {
      "text/plain": [
       "Index(['Temperature', 'Rainfall', 'Flyers', 'Price', 'Sales'], dtype='object')"
      ]
     },
     "execution_count": 8,
     "metadata": {},
     "output_type": "execute_result"
    }
   ],
   "source": [
    "num_cols = lemonade.select_dtypes(\"number\").columns\n",
    "num_cols"
   ]
  },
  {
   "cell_type": "code",
   "execution_count": 12,
   "id": "8b94612f-0ce9-44e5-930d-90f558242163",
   "metadata": {},
   "outputs": [
    {
     "name": "stdout",
     "output_type": "stream",
     "text": [
      "Temperature Q1: 49.7\n",
      "Rainfall Q1: 0.65\n",
      "Flyers Q1: 31.0\n",
      "Price Q1: 0.5\n",
      "Sales Q1: 20.0\n"
     ]
    }
   ],
   "source": [
    "for i in num_cols:\n",
    "    print(f\"{i} Q1:\", lemonade[i].quantile(.25))"
   ]
  },
  {
   "cell_type": "markdown",
   "id": "1a4bcbff-d7f8-46f8-9dba-674ef97066af",
   "metadata": {},
   "source": [
    "**lower fance**"
   ]
  },
  {
   "cell_type": "code",
   "execution_count": 16,
   "id": "c03810fe-8d61-4d03-992a-a07d108ff252",
   "metadata": {},
   "outputs": [
    {
     "name": "stdout",
     "output_type": "stream",
     "text": [
      "Temperature lower bound: 16.700000000000003\n",
      "Rainfall lower bound: 0.26\n",
      "Flyers lower bound: 4.0\n",
      "Price lower bound: 0.5\n",
      "Sales lower bound: 5.0\n"
     ]
    }
   ],
   "source": [
    "multiplier = 1.5\n",
    "\n",
    "for i in num_cols:\n",
    "    q1 = lemonade[i].quantile(.25)\n",
    "    q3 = lemonade[i].quantile(.75)\n",
    "    iqr = q3 - q1\n",
    "    print(f\"{i} lower bound:\", q1 - (multiplier * iqr))\n"
   ]
  },
  {
   "cell_type": "markdown",
   "id": "d4937df5-1fa5-4a68-92a7-fc6d405327ce",
   "metadata": {},
   "source": [
    "**Use the IQR Range Rule and the upper and upper bounds to identify the upper outliers of each column of lemonade.csv, using the multiplier of 1.5. Do these upper outliers make sense? Which outliers should be kept?**"
   ]
  },
  {
   "cell_type": "code",
   "execution_count": 15,
   "id": "98b96dc6-8de9-4b83-a083-d5d2bac64c3d",
   "metadata": {},
   "outputs": [
    {
     "name": "stdout",
     "output_type": "stream",
     "text": [
      "Temperature Q3: 71.7\n",
      "Rainfall Q3: 0.91\n",
      "Flyers Q3: 49.0\n",
      "Price Q3: 0.5\n",
      "Sales Q3: 30.0\n"
     ]
    }
   ],
   "source": [
    "for i in num_cols:\n",
    "    print(f\"{i} Q3:\", lemonade[i].quantile(.75))"
   ]
  },
  {
   "cell_type": "markdown",
   "id": "edadad38-1653-4023-9eaa-b92840e06860",
   "metadata": {},
   "source": [
    "**upper bound**"
   ]
  },
  {
   "cell_type": "code",
   "execution_count": 26,
   "id": "f740b304-a901-4260-96b8-e75979f2e371",
   "metadata": {},
   "outputs": [
    {
     "name": "stdout",
     "output_type": "stream",
     "text": [
      "Temperature upper bound: 104.7\n",
      "Rainfall upper bound: 1.3\n",
      "Flyers upper bound: 76.0\n",
      "Price upper bound: 0.5\n",
      "Sales upper bound: 45.0\n"
     ]
    }
   ],
   "source": [
    "multiplier = 1.5\n",
    "\n",
    "for i in num_cols:\n",
    "    q1 = lemonade[i].quantile(.25)\n",
    "    q3 = lemonade[i].quantile(.75)\n",
    "    iqr = q3 - q1\n",
    "    print(f\"{i} upper bound:\", q3 + (multiplier * iqr))\n"
   ]
  },
  {
   "cell_type": "markdown",
   "id": "6d98f9ac-767e-451d-a4af-236aa1cf9fd4",
   "metadata": {},
   "source": [
    "**Using the multiplier of 3, IQR Range Rule, and the lower bounds, identify the outliers below the lower bound in each colum of lemonade.csv. Do these lower outliers make sense? Which outliers should be kept?**"
   ]
  },
  {
   "cell_type": "code",
   "execution_count": 27,
   "id": "74e8488b-f910-4d31-bf43-787a747a319f",
   "metadata": {},
   "outputs": [
    {
     "name": "stdout",
     "output_type": "stream",
     "text": [
      "Number of outliers in temperature lower bound: 0\n",
      "Number of outliers in rainfall lower bound: 0\n",
      "Number of outliers in flyers lower bound: 1\n",
      "Number of outliers in price lower bound: 0\n",
      "Number of outliers in sales lower bound: 0\n"
     ]
    }
   ],
   "source": [
    "multiplier = 3\n",
    "\n",
    "for i in num_cols:\n",
    "    q1 = lemonade[i].quantile(.25)\n",
    "    q3 = lemonade[i].quantile(.75)\n",
    "    iqr = q3 - q1\n",
    "    lower_bound = q1 - (multiplier * iqr)\n",
    "    print(f\"Number of outliers in {i.lower()} lower bound:\", len(lemonade[lemonade[i] < lower_bound]))\n"
   ]
  },
  {
   "cell_type": "markdown",
   "id": "6db6aa75-81ca-4372-9b7a-1ae20b29df18",
   "metadata": {},
   "source": [
    "**Using the multiplier of 3, IQR Range Rule, and the upper bounds, identify the outliers above the upper_bound in each colum of lemonade.csv. Do these upper outliers make sense? Which outliers should be kept?**"
   ]
  },
  {
   "cell_type": "code",
   "execution_count": 29,
   "id": "77fd7537-0045-4031-8855-e7db082da3da",
   "metadata": {},
   "outputs": [
    {
     "name": "stdout",
     "output_type": "stream",
     "text": [
      "Number of outliers in temperature upper bound: 1\n",
      "Number of outliers in rainfall upper bound: 4\n",
      "Number of outliers in flyers upper bound: 0\n",
      "Number of outliers in price upper bound: 0\n",
      "Number of outliers in sales upper bound: 4\n"
     ]
    }
   ],
   "source": [
    "multiplier = 3\n",
    "\n",
    "for i in num_cols:\n",
    "    q1 = lemonade[i].quantile(.25)\n",
    "    q3 = lemonade[i].quantile(.75)\n",
    "    iqr = q3 - q1\n",
    "    upper_bound = q3 + (multiplier * iqr)\n",
    "    print(f\"Number of outliers in {i.lower()} upper bound:\", len(lemonade[lemonade[i] > upper_bound]))\n"
   ]
  },
  {
   "cell_type": "markdown",
   "id": "ea937938-c65e-47df-b5c5-1fe24749d5d5",
   "metadata": {},
   "source": [
    "**Identify if any columns in lemonade.csv are normally distributed. For normally distributed columns:**\n",
    "\n",
    "- Use a 2 sigma decision rule to isolate the outliers.\n",
    "\n",
    "- Do these make sense?\n",
    "- Should certain outliers be kept or removed?"
   ]
  },
  {
   "cell_type": "code",
   "execution_count": 41,
   "id": "0b6139e7-b449-4d90-a3e6-bb7e0cc7e7bd",
   "metadata": {},
   "outputs": [
    {
     "name": "stdout",
     "output_type": "stream",
     "text": [
      "Temperature z-score outliers: 8\n",
      "Rainfall z-score outliers: 19\n",
      "Flyers z-score outliers: 10\n",
      "Price z-score outliers: 0\n",
      "Sales z-score outliers: 4\n"
     ]
    }
   ],
   "source": [
    "for i in num_cols:\n",
    "    z_scores = (lemonade[i] - lemonade[i].mean()) / lemonade[i].std()\n",
    "    print(f\"{i} z-score outliers:\", len(z_scores[z_scores > 2]))\n"
   ]
  },
  {
   "cell_type": "markdown",
   "id": "0318367b-9efd-4ec7-b5f5-4407a088699e",
   "metadata": {},
   "source": [
    "- They don't make sence"
   ]
  },
  {
   "cell_type": "code",
   "execution_count": null,
   "id": "7a7c9fd9-0fdb-4b1e-bdab-4a3e9c000b60",
   "metadata": {},
   "outputs": [],
   "source": []
  }
 ],
 "metadata": {
  "kernelspec": {
   "display_name": "Python 3 (ipykernel)",
   "language": "python",
   "name": "python3"
  },
  "language_info": {
   "codemirror_mode": {
    "name": "ipython",
    "version": 3
   },
   "file_extension": ".py",
   "mimetype": "text/x-python",
   "name": "python",
   "nbconvert_exporter": "python",
   "pygments_lexer": "ipython3",
   "version": "3.10.9"
  }
 },
 "nbformat": 4,
 "nbformat_minor": 5
}
